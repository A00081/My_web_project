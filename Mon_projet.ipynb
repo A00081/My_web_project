{
  "nbformat": 4,
  "nbformat_minor": 0,
  "metadata": {
    "colab": {
      "provenance": [],
      "toc_visible": true,
      "authorship_tag": "ABX9TyNC7FCgLbmcEZo6eERux4kC",
      "include_colab_link": true
    },
    "kernelspec": {
      "name": "python3",
      "display_name": "Python 3"
    },
    "language_info": {
      "name": "python"
    }
  },
  "cells": [
    {
      "cell_type": "markdown",
      "metadata": {
        "id": "view-in-github",
        "colab_type": "text"
      },
      "source": [
        "<a href=\"https://colab.research.google.com/github/A00081/My_web_project/blob/main/Mon_projet.ipynb\" target=\"_parent\"><img src=\"https://colab.research.google.com/assets/colab-badge.svg\" alt=\"Open In Colab\"/></a>"
      ]
    },
    {
      "cell_type": "markdown",
      "source": [
        "# Prise en main de pandas"
      ],
      "metadata": {
        "id": "Qo4kj3vRY5OF"
      }
    },
    {
      "cell_type": "markdown",
      "source": [
        "##etape1\n"
      ],
      "metadata": {
        "id": "CEUNahv7Y_1L"
      }
    },
    {
      "cell_type": "code",
      "source": [
        "import pandas as pd\n",
        "import seaborn as sns\n",
        "import matplotlib.pyplot as plt\n",
        "from datetime import datetime\n",
        "import random as rd\n",
        "import numpy as np\n",
        "from google.colab import userdata"
      ],
      "metadata": {
        "id": "rzx6jxT6Y5xC"
      },
      "execution_count": 21,
      "outputs": []
    },
    {
      "cell_type": "code",
      "source": [
        "#Rituel à l'ouverture d'un dataframe\n",
        "def Rituel(df,nom):\n",
        "  if (isinstance(df,pd.DataFrame)) & (isinstance(nom,str)):\n",
        "    print(f\"!Yes :)\\n{nom} is {pd.DataFrame}\")\n",
        "    print(f\"Shape: {df.shape}\\n\\nType:\\n{df.dtypes}\\n\\nhead:\\n{df.head()}\\n\\n \\\n",
        "            Tail:\\n{df.tail()}\\n\\n Not available or Missing values 'NaN'\\n{df.isna().sum()}\")\n",
        "  else:\n",
        "    print(f\"{nom} n'est pas un DataFrame pandas\")\n",
        "\n"
      ],
      "metadata": {
        "id": "Q1jrDGWXLrzl"
      },
      "execution_count": 2,
      "outputs": []
    },
    {
      "cell_type": "code",
      "source": [
        "patha='https://bit.ly/world-cities-clean'\n",
        "pathb='https://bit.ly/bitcoin-data'\n",
        "pathc='https://bit.ly/bitcoin-purchases'\n",
        "print(patha)\n",
        "print(pathb)\n",
        "print(pathc)"
      ],
      "metadata": {
        "colab": {
          "base_uri": "https://localhost:8080/"
        },
        "id": "9y3-OBn1d189",
        "outputId": "c0d407f2-2f62-4f38-deab-a4b7cd4c0a13"
      },
      "execution_count": 3,
      "outputs": [
        {
          "output_type": "stream",
          "name": "stdout",
          "text": [
            "https://bit.ly/world-cities-clean\n",
            "https://bit.ly/bitcoin-data\n",
            "https://bit.ly/bitcoin-purchases\n"
          ]
        }
      ]
    },
    {
      "cell_type": "code",
      "source": [
        "dfa=pd.read_csv(patha, sep=',', skipfooter=0, engine='python')\n",
        "dfb=pd.read_csv(pathb, sep=',',skipfooter=2, engine='python')\n",
        "dfc=pd.read_csv(pathc,sep=',')"
      ],
      "metadata": {
        "id": "mk3UMiP_m7ai"
      },
      "execution_count": 4,
      "outputs": []
    },
    {
      "cell_type": "code",
      "source": [
        "#Renommer plusieurs colonnes\n",
        "Rituel(dfb,'Data_bitcoin')\n",
        "dfb.rename({'Open*':'Open','Close**':'Close'}, axis=1, inplace=True)\n",
        "dfb.rename(columns = lambda x: x.replace(' ','_'), inplace=True) #fonction à appliquer aux colonnes"
      ],
      "metadata": {
        "colab": {
          "base_uri": "https://localhost:8080/"
        },
        "id": "vzGJfOFLh4A1",
        "outputId": "76f90ec7-55de-404b-c362-7cd77f4e21d9"
      },
      "execution_count": 5,
      "outputs": [
        {
          "output_type": "stream",
          "name": "stdout",
          "text": [
            "!Yes :)\n",
            "Data_bitcoin is <class 'pandas.core.frame.DataFrame'>\n",
            "Shape: (31, 7)\n",
            "\n",
            "Type:\n",
            "Date           object\n",
            "Open*         float64\n",
            "High          float64\n",
            "Low           float64\n",
            "Close**       float64\n",
            "Volume          int64\n",
            "Market Cap      int64\n",
            "dtype: object\n",
            "\n",
            "head:\n",
            "          Date    Open*     High      Low  Close**       Volume    Market Cap\n",
            "0  Jan 14 2020  8140.93  8879.51  8140.93  8827.76  44841784107  160319484883\n",
            "1  Jan 13 2020  8189.77  8197.79  8079.70  8144.19  22482910688  147890525973\n",
            "2  Jan 12 2020  8033.26  8200.06  8009.06  8192.49  22903438381  148752956966\n",
            "3  Jan 11 2020  8162.19  8218.36  8029.64  8037.54  25521165085  145924199942\n",
            "4  Jan 10 2020  7878.31  8166.55  7726.77  8166.55  28714583844  148249907277\n",
            "\n",
            "             Tail:\n",
            "           Date    Open*     High      Low  Close**       Volume    Market Cap\n",
            "26  Dec 19 2019  7277.59  7346.60  7041.38  7202.84  25904604416  130445758713\n",
            "27  Dec 18 2019  6647.70  7324.98  6540.05  7276.80  31836522778  131754969804\n",
            "28  Dec 17 2019  6931.32  6964.07  6587.97  6640.52  22363804217  120234244809\n",
            "29  Dec 16 2019  7153.66  7171.17  6903.68  6932.48  20213265950  125515586952\n",
            "30  Dec 15 2019  7124.24  7181.08  6924.38  7152.30  16881129804  129481424648\n",
            "\n",
            " Not available or Missing values 'NaN'\n",
            "Date          0\n",
            "Open*         0\n",
            "High          0\n",
            "Low           0\n",
            "Close**       0\n",
            "Volume        0\n",
            "Market Cap    0\n",
            "dtype: int64\n"
          ]
        }
      ]
    },
    {
      "cell_type": "code",
      "source": [
        "Rituel(dfc,'Data_bitcoin_purchases')"
      ],
      "metadata": {
        "colab": {
          "base_uri": "https://localhost:8080/"
        },
        "id": "76foJT53zdO2",
        "outputId": "ede6cf16-cddb-4d42-ba05-8375e335d6d6"
      },
      "execution_count": 6,
      "outputs": [
        {
          "output_type": "stream",
          "name": "stdout",
          "text": [
            "!Yes :)\n",
            "Data_bitcoin_purchases is <class 'pandas.core.frame.DataFrame'>\n",
            "Shape: (1000, 3)\n",
            "\n",
            "Type:\n",
            "bitcoin address    object\n",
            "wire amount        object\n",
            "credit card         int64\n",
            "dtype: object\n",
            "\n",
            "head:\n",
            "                      bitcoin address wire amount          credit card\n",
            "0  1HeUNvQfhjn8afvjMrMEX5VQB5zy8AacXZ    $2268.82  6759241310493014168\n",
            "1  18xA8uEzQsEQpyfJWrrLmnu72ut7p2GgeU    $4590.27     6394078189900621\n",
            "2  1CPLebXd6VKdEmD6xsVByYDbsyhkZ4XzrE    $6160.48     3539006321388994\n",
            "3  1ESn9zPPwAExS98jqhjkDPd7tGeoevL42u    $6647.19     3560801557252993\n",
            "4  1JLYsDExCUsEPrN6vNsEgJubJE4xqWtqhp    $3759.40     5349906235596126\n",
            "\n",
            "             Tail:\n",
            "                        bitcoin address wire amount          credit card\n",
            "995  138k9bHDuCABrp62m3jx7qN7GpLmH1tau1    $8777.99     6395533880416383\n",
            "996  133bMbCx4XumvjzZCctexFdWFtc8AVe92T    $7614.59     5100136128250214\n",
            "997  1EbNemXSs9jnJuTHg3JFs3sVsCpMVmkZzg    $1710.21  4911312234445162581\n",
            "998  1ACsxcM3utWGaGtTKBndk7S68KX7bMQCaX    $5240.64  5038080137024268375\n",
            "999  16PZEa57oL1MEMECPRYf8bwPAttqtuSaVj    $5672.95     4903401043022953\n",
            "\n",
            " Not available or Missing values 'NaN'\n",
            "bitcoin address    0\n",
            "wire amount        0\n",
            "credit card        0\n",
            "dtype: int64\n"
          ]
        }
      ]
    },
    {
      "cell_type": "code",
      "source": [
        "#Créer une colonne de dévises\n",
        "dfc['Currency']=dfc['wire amount'].str.get(0).astype('category')"
      ],
      "metadata": {
        "id": "zv8HhafPMW5t"
      },
      "execution_count": 7,
      "outputs": []
    },
    {
      "cell_type": "code",
      "source": [
        "dfc['wire amount']=dfc['wire amount'].str.removeprefix('$').astype(float) # manipuler les chaines de caractères avec string"
      ],
      "metadata": {
        "id": "UyH9CR7VFzH7"
      },
      "execution_count": 8,
      "outputs": []
    },
    {
      "cell_type": "code",
      "source": [
        "pathd='https://bit.ly/felonies-dataset'\n",
        "print(pathd)\n",
        "dfd=pd.read_csv(pathd)\n"
      ],
      "metadata": {
        "colab": {
          "base_uri": "https://localhost:8080/"
        },
        "id": "hD7IDJe0mgdm",
        "outputId": "8660e015-c337-42d7-8b6d-ca0585ca5194"
      },
      "execution_count": 9,
      "outputs": [
        {
          "output_type": "stream",
          "name": "stdout",
          "text": [
            "https://bit.ly/felonies-dataset\n"
          ]
        }
      ]
    },
    {
      "cell_type": "code",
      "source": [
        "Rituel(dfd,'Data-Felonies')"
      ],
      "metadata": {
        "colab": {
          "base_uri": "https://localhost:8080/"
        },
        "id": "BCT4YczSrgy1",
        "outputId": "840b30e0-4be4-4bdc-d465-5d8110f7590e"
      },
      "execution_count": 10,
      "outputs": [
        {
          "output_type": "stream",
          "name": "stdout",
          "text": [
            "!Yes :)\n",
            "Data-Felonies is <class 'pandas.core.frame.DataFrame'>\n",
            "Shape: (1000, 3)\n",
            "\n",
            "Type:\n",
            "Date of Arrest    object\n",
            "Age                int64\n",
            "Convicted         object\n",
            "dtype: object\n",
            "\n",
            "head:\n",
            "        Date of Arrest  Age Convicted\n",
            "0  2014-07-16 14:59:18   77       Yes\n",
            "1  2002-12-19 22:17:59   28       Yes\n",
            "2  1994-06-28 09:31:40   21        No\n",
            "3  1985-05-14 09:52:17   45       Yes\n",
            "4  1985-05-25 14:06:28   39       Yes\n",
            "\n",
            "             Tail:\n",
            "          Date of Arrest  Age Convicted\n",
            "995  1992-02-04 14:24:25   72       Yes\n",
            "996  1996-04-29 18:03:23   68       Yes\n",
            "997  1980-07-15 21:59:27   87       Yes\n",
            "998  1999-07-05 17:16:12   27        No\n",
            "999  1996-03-17 18:29:25   57       Yes\n",
            "\n",
            " Not available or Missing values 'NaN'\n",
            "Date of Arrest    0\n",
            "Age               0\n",
            "Convicted         0\n",
            "dtype: int64\n"
          ]
        }
      ]
    },
    {
      "cell_type": "code",
      "source": [
        "#Créer des catégories à partir d'une variable continue comme âge\n",
        "dfd['group_age']=pd.cut(dfd['Age'],bins=[9,13,20,40,65,99],labels=['Child','Ado','Young','Adultes','Old'])"
      ],
      "metadata": {
        "id": "Ngt_19hOrsgq"
      },
      "execution_count": 11,
      "outputs": []
    },
    {
      "cell_type": "code",
      "source": [
        "pivot_sum = pd.pivot_table(dfd, values='Age', index='group_age', aggfunc='count')\n",
        "print(\"Somme des revenus par catégorie :\")\n",
        "print(pivot_sum)"
      ],
      "metadata": {
        "colab": {
          "base_uri": "https://localhost:8080/"
        },
        "id": "y-80alT1u5b5",
        "outputId": "c6441d1a-f94c-4184-fd4a-edc2a4f20278"
      },
      "execution_count": 12,
      "outputs": [
        {
          "output_type": "stream",
          "name": "stdout",
          "text": [
            "Somme des revenus par catégorie :\n",
            "           Age\n",
            "group_age     \n",
            "Child       35\n",
            "Ado         64\n",
            "Young      233\n",
            "Adultes    300\n",
            "Old        368\n"
          ]
        }
      ]
    },
    {
      "cell_type": "markdown",
      "source": [
        "##Calcules sur les dates"
      ],
      "metadata": {
        "id": "hoQ3N29To9y0"
      }
    },
    {
      "cell_type": "code",
      "source": [
        "dfd.rename({'Date of Arrest':'DoA'}, axis=1, inplace=True)\n",
        "dfd['DoA']=pd.to_datetime(dfd['DoA']) #Convertir en format date avec pd.to_datetime"
      ],
      "metadata": {
        "id": "9lh3gsoE_zxW"
      },
      "execution_count": 13,
      "outputs": []
    },
    {
      "cell_type": "code",
      "source": [
        "dfd['date']=dfd['DoA'].dt.strftime('%d-%b-%Y') # Extraire des formats de temps avec le module dt"
      ],
      "metadata": {
        "id": "f0b1yLyMZePE"
      },
      "execution_count": 14,
      "outputs": []
    },
    {
      "cell_type": "code",
      "source": [
        "#Créer des catégories 'période' à partir des dates\n",
        "labels=[f'période_{i+1}' for i in range(4)] #Car range commence toujours par 0\n",
        "x=lambda a: datetime(year=a, month=1, day=1)\n",
        "dfd['période']=pd.cut(dfd['DoA'], bins=[x(1968),x(1975),x(1990),x(2005),x(2021)], labels=labels)"
      ],
      "metadata": {
        "id": "yj1Y6irJjYVs"
      },
      "execution_count": 15,
      "outputs": []
    },
    {
      "cell_type": "code",
      "source": [
        "#Réordonner les colonnes de mon dataframe\n",
        "a=dfd.columns.tolist()\n",
        "a"
      ],
      "metadata": {
        "colab": {
          "base_uri": "https://localhost:8080/"
        },
        "id": "nQx-841GdvsG",
        "outputId": "c8dd317c-88f0-4223-b261-ded124b234e2"
      },
      "execution_count": 16,
      "outputs": [
        {
          "output_type": "execute_result",
          "data": {
            "text/plain": [
              "['DoA', 'Age', 'Convicted', 'group_age', 'date', 'période']"
            ]
          },
          "metadata": {},
          "execution_count": 16
        }
      ]
    },
    {
      "cell_type": "code",
      "source": [
        "dfd=dfd[[a[0],a[-2],a[-1],a[2],a[1],a[3]]]\n",
        "dfd.sort_values(by=['DoA']).head(20)"
      ],
      "metadata": {
        "colab": {
          "base_uri": "https://localhost:8080/",
          "height": 697
        },
        "id": "y9sAUYKgrcb-",
        "outputId": "0a1db6ac-b549-4adf-e7df-b5792916bcd2"
      },
      "execution_count": 17,
      "outputs": [
        {
          "output_type": "execute_result",
          "data": {
            "text/plain": [
              "                    DoA         date    période Convicted  Age group_age\n",
              "423 1968-01-10 02:41:49  10-Jan-1968  période_1        No   23     Young\n",
              "361 1968-01-13 23:32:59  13-Jan-1968  période_1       Yes   27     Young\n",
              "98  1968-01-14 21:12:54  14-Jan-1968  période_1        No   41   Adultes\n",
              "917 1968-01-23 11:50:19  23-Jan-1968  période_1        No   99       Old\n",
              "406 1968-01-29 01:37:28  29-Jan-1968  période_1       Yes   96       Old\n",
              "646 1968-03-25 05:25:42  25-Mar-1968  période_1        No   75       Old\n",
              "286 1968-03-31 11:11:25  31-Mar-1968  période_1        No   87       Old\n",
              "440 1968-04-04 13:50:48  04-Apr-1968  période_1        No   24     Young\n",
              "985 1968-04-05 09:57:02  05-Apr-1968  période_1       Yes   31     Young\n",
              "569 1968-04-20 11:45:29  20-Apr-1968  période_1       Yes   23     Young\n",
              "83  1968-04-23 20:06:31  23-Apr-1968  période_1       Yes   32     Young\n",
              "807 1968-05-23 04:23:03  23-May-1968  période_1       Yes   16       Ado\n",
              "551 1968-05-25 08:07:23  25-May-1968  période_1        No   97       Old\n",
              "447 1968-06-01 07:57:08  01-Jun-1968  période_1       Yes   25     Young\n",
              "275 1968-06-08 06:18:26  08-Jun-1968  période_1        No   10     Child\n",
              "802 1968-07-06 08:34:05  06-Jul-1968  période_1       Yes   61   Adultes\n",
              "692 1968-07-07 10:44:48  07-Jul-1968  période_1       Yes   12     Child\n",
              "350 1968-07-16 04:42:32  16-Jul-1968  période_1       Yes   67       Old\n",
              "781 1968-07-19 11:44:44  19-Jul-1968  période_1        No   28     Young\n",
              "526 1968-09-10 10:27:03  10-Sep-1968  période_1       Yes   25     Young"
            ],
            "text/html": [
              "\n",
              "  <div id=\"df-20104f47-0a25-4121-b76c-b53360b04b94\" class=\"colab-df-container\">\n",
              "    <div>\n",
              "<style scoped>\n",
              "    .dataframe tbody tr th:only-of-type {\n",
              "        vertical-align: middle;\n",
              "    }\n",
              "\n",
              "    .dataframe tbody tr th {\n",
              "        vertical-align: top;\n",
              "    }\n",
              "\n",
              "    .dataframe thead th {\n",
              "        text-align: right;\n",
              "    }\n",
              "</style>\n",
              "<table border=\"1\" class=\"dataframe\">\n",
              "  <thead>\n",
              "    <tr style=\"text-align: right;\">\n",
              "      <th></th>\n",
              "      <th>DoA</th>\n",
              "      <th>date</th>\n",
              "      <th>période</th>\n",
              "      <th>Convicted</th>\n",
              "      <th>Age</th>\n",
              "      <th>group_age</th>\n",
              "    </tr>\n",
              "  </thead>\n",
              "  <tbody>\n",
              "    <tr>\n",
              "      <th>423</th>\n",
              "      <td>1968-01-10 02:41:49</td>\n",
              "      <td>10-Jan-1968</td>\n",
              "      <td>période_1</td>\n",
              "      <td>No</td>\n",
              "      <td>23</td>\n",
              "      <td>Young</td>\n",
              "    </tr>\n",
              "    <tr>\n",
              "      <th>361</th>\n",
              "      <td>1968-01-13 23:32:59</td>\n",
              "      <td>13-Jan-1968</td>\n",
              "      <td>période_1</td>\n",
              "      <td>Yes</td>\n",
              "      <td>27</td>\n",
              "      <td>Young</td>\n",
              "    </tr>\n",
              "    <tr>\n",
              "      <th>98</th>\n",
              "      <td>1968-01-14 21:12:54</td>\n",
              "      <td>14-Jan-1968</td>\n",
              "      <td>période_1</td>\n",
              "      <td>No</td>\n",
              "      <td>41</td>\n",
              "      <td>Adultes</td>\n",
              "    </tr>\n",
              "    <tr>\n",
              "      <th>917</th>\n",
              "      <td>1968-01-23 11:50:19</td>\n",
              "      <td>23-Jan-1968</td>\n",
              "      <td>période_1</td>\n",
              "      <td>No</td>\n",
              "      <td>99</td>\n",
              "      <td>Old</td>\n",
              "    </tr>\n",
              "    <tr>\n",
              "      <th>406</th>\n",
              "      <td>1968-01-29 01:37:28</td>\n",
              "      <td>29-Jan-1968</td>\n",
              "      <td>période_1</td>\n",
              "      <td>Yes</td>\n",
              "      <td>96</td>\n",
              "      <td>Old</td>\n",
              "    </tr>\n",
              "    <tr>\n",
              "      <th>646</th>\n",
              "      <td>1968-03-25 05:25:42</td>\n",
              "      <td>25-Mar-1968</td>\n",
              "      <td>période_1</td>\n",
              "      <td>No</td>\n",
              "      <td>75</td>\n",
              "      <td>Old</td>\n",
              "    </tr>\n",
              "    <tr>\n",
              "      <th>286</th>\n",
              "      <td>1968-03-31 11:11:25</td>\n",
              "      <td>31-Mar-1968</td>\n",
              "      <td>période_1</td>\n",
              "      <td>No</td>\n",
              "      <td>87</td>\n",
              "      <td>Old</td>\n",
              "    </tr>\n",
              "    <tr>\n",
              "      <th>440</th>\n",
              "      <td>1968-04-04 13:50:48</td>\n",
              "      <td>04-Apr-1968</td>\n",
              "      <td>période_1</td>\n",
              "      <td>No</td>\n",
              "      <td>24</td>\n",
              "      <td>Young</td>\n",
              "    </tr>\n",
              "    <tr>\n",
              "      <th>985</th>\n",
              "      <td>1968-04-05 09:57:02</td>\n",
              "      <td>05-Apr-1968</td>\n",
              "      <td>période_1</td>\n",
              "      <td>Yes</td>\n",
              "      <td>31</td>\n",
              "      <td>Young</td>\n",
              "    </tr>\n",
              "    <tr>\n",
              "      <th>569</th>\n",
              "      <td>1968-04-20 11:45:29</td>\n",
              "      <td>20-Apr-1968</td>\n",
              "      <td>période_1</td>\n",
              "      <td>Yes</td>\n",
              "      <td>23</td>\n",
              "      <td>Young</td>\n",
              "    </tr>\n",
              "    <tr>\n",
              "      <th>83</th>\n",
              "      <td>1968-04-23 20:06:31</td>\n",
              "      <td>23-Apr-1968</td>\n",
              "      <td>période_1</td>\n",
              "      <td>Yes</td>\n",
              "      <td>32</td>\n",
              "      <td>Young</td>\n",
              "    </tr>\n",
              "    <tr>\n",
              "      <th>807</th>\n",
              "      <td>1968-05-23 04:23:03</td>\n",
              "      <td>23-May-1968</td>\n",
              "      <td>période_1</td>\n",
              "      <td>Yes</td>\n",
              "      <td>16</td>\n",
              "      <td>Ado</td>\n",
              "    </tr>\n",
              "    <tr>\n",
              "      <th>551</th>\n",
              "      <td>1968-05-25 08:07:23</td>\n",
              "      <td>25-May-1968</td>\n",
              "      <td>période_1</td>\n",
              "      <td>No</td>\n",
              "      <td>97</td>\n",
              "      <td>Old</td>\n",
              "    </tr>\n",
              "    <tr>\n",
              "      <th>447</th>\n",
              "      <td>1968-06-01 07:57:08</td>\n",
              "      <td>01-Jun-1968</td>\n",
              "      <td>période_1</td>\n",
              "      <td>Yes</td>\n",
              "      <td>25</td>\n",
              "      <td>Young</td>\n",
              "    </tr>\n",
              "    <tr>\n",
              "      <th>275</th>\n",
              "      <td>1968-06-08 06:18:26</td>\n",
              "      <td>08-Jun-1968</td>\n",
              "      <td>période_1</td>\n",
              "      <td>No</td>\n",
              "      <td>10</td>\n",
              "      <td>Child</td>\n",
              "    </tr>\n",
              "    <tr>\n",
              "      <th>802</th>\n",
              "      <td>1968-07-06 08:34:05</td>\n",
              "      <td>06-Jul-1968</td>\n",
              "      <td>période_1</td>\n",
              "      <td>Yes</td>\n",
              "      <td>61</td>\n",
              "      <td>Adultes</td>\n",
              "    </tr>\n",
              "    <tr>\n",
              "      <th>692</th>\n",
              "      <td>1968-07-07 10:44:48</td>\n",
              "      <td>07-Jul-1968</td>\n",
              "      <td>période_1</td>\n",
              "      <td>Yes</td>\n",
              "      <td>12</td>\n",
              "      <td>Child</td>\n",
              "    </tr>\n",
              "    <tr>\n",
              "      <th>350</th>\n",
              "      <td>1968-07-16 04:42:32</td>\n",
              "      <td>16-Jul-1968</td>\n",
              "      <td>période_1</td>\n",
              "      <td>Yes</td>\n",
              "      <td>67</td>\n",
              "      <td>Old</td>\n",
              "    </tr>\n",
              "    <tr>\n",
              "      <th>781</th>\n",
              "      <td>1968-07-19 11:44:44</td>\n",
              "      <td>19-Jul-1968</td>\n",
              "      <td>période_1</td>\n",
              "      <td>No</td>\n",
              "      <td>28</td>\n",
              "      <td>Young</td>\n",
              "    </tr>\n",
              "    <tr>\n",
              "      <th>526</th>\n",
              "      <td>1968-09-10 10:27:03</td>\n",
              "      <td>10-Sep-1968</td>\n",
              "      <td>période_1</td>\n",
              "      <td>Yes</td>\n",
              "      <td>25</td>\n",
              "      <td>Young</td>\n",
              "    </tr>\n",
              "  </tbody>\n",
              "</table>\n",
              "</div>\n",
              "    <div class=\"colab-df-buttons\">\n",
              "\n",
              "  <div class=\"colab-df-container\">\n",
              "    <button class=\"colab-df-convert\" onclick=\"convertToInteractive('df-20104f47-0a25-4121-b76c-b53360b04b94')\"\n",
              "            title=\"Convert this dataframe to an interactive table.\"\n",
              "            style=\"display:none;\">\n",
              "\n",
              "  <svg xmlns=\"http://www.w3.org/2000/svg\" height=\"24px\" viewBox=\"0 -960 960 960\">\n",
              "    <path d=\"M120-120v-720h720v720H120Zm60-500h600v-160H180v160Zm220 220h160v-160H400v160Zm0 220h160v-160H400v160ZM180-400h160v-160H180v160Zm440 0h160v-160H620v160ZM180-180h160v-160H180v160Zm440 0h160v-160H620v160Z\"/>\n",
              "  </svg>\n",
              "    </button>\n",
              "\n",
              "  <style>\n",
              "    .colab-df-container {\n",
              "      display:flex;\n",
              "      gap: 12px;\n",
              "    }\n",
              "\n",
              "    .colab-df-convert {\n",
              "      background-color: #E8F0FE;\n",
              "      border: none;\n",
              "      border-radius: 50%;\n",
              "      cursor: pointer;\n",
              "      display: none;\n",
              "      fill: #1967D2;\n",
              "      height: 32px;\n",
              "      padding: 0 0 0 0;\n",
              "      width: 32px;\n",
              "    }\n",
              "\n",
              "    .colab-df-convert:hover {\n",
              "      background-color: #E2EBFA;\n",
              "      box-shadow: 0px 1px 2px rgba(60, 64, 67, 0.3), 0px 1px 3px 1px rgba(60, 64, 67, 0.15);\n",
              "      fill: #174EA6;\n",
              "    }\n",
              "\n",
              "    .colab-df-buttons div {\n",
              "      margin-bottom: 4px;\n",
              "    }\n",
              "\n",
              "    [theme=dark] .colab-df-convert {\n",
              "      background-color: #3B4455;\n",
              "      fill: #D2E3FC;\n",
              "    }\n",
              "\n",
              "    [theme=dark] .colab-df-convert:hover {\n",
              "      background-color: #434B5C;\n",
              "      box-shadow: 0px 1px 3px 1px rgba(0, 0, 0, 0.15);\n",
              "      filter: drop-shadow(0px 1px 2px rgba(0, 0, 0, 0.3));\n",
              "      fill: #FFFFFF;\n",
              "    }\n",
              "  </style>\n",
              "\n",
              "    <script>\n",
              "      const buttonEl =\n",
              "        document.querySelector('#df-20104f47-0a25-4121-b76c-b53360b04b94 button.colab-df-convert');\n",
              "      buttonEl.style.display =\n",
              "        google.colab.kernel.accessAllowed ? 'block' : 'none';\n",
              "\n",
              "      async function convertToInteractive(key) {\n",
              "        const element = document.querySelector('#df-20104f47-0a25-4121-b76c-b53360b04b94');\n",
              "        const dataTable =\n",
              "          await google.colab.kernel.invokeFunction('convertToInteractive',\n",
              "                                                    [key], {});\n",
              "        if (!dataTable) return;\n",
              "\n",
              "        const docLinkHtml = 'Like what you see? Visit the ' +\n",
              "          '<a target=\"_blank\" href=https://colab.research.google.com/notebooks/data_table.ipynb>data table notebook</a>'\n",
              "          + ' to learn more about interactive tables.';\n",
              "        element.innerHTML = '';\n",
              "        dataTable['output_type'] = 'display_data';\n",
              "        await google.colab.output.renderOutput(dataTable, element);\n",
              "        const docLink = document.createElement('div');\n",
              "        docLink.innerHTML = docLinkHtml;\n",
              "        element.appendChild(docLink);\n",
              "      }\n",
              "    </script>\n",
              "  </div>\n",
              "\n",
              "\n",
              "<div id=\"df-e1510f0d-9154-418f-99d6-5a09ab3e0176\">\n",
              "  <button class=\"colab-df-quickchart\" onclick=\"quickchart('df-e1510f0d-9154-418f-99d6-5a09ab3e0176')\"\n",
              "            title=\"Suggest charts\"\n",
              "            style=\"display:none;\">\n",
              "\n",
              "<svg xmlns=\"http://www.w3.org/2000/svg\" height=\"24px\"viewBox=\"0 0 24 24\"\n",
              "     width=\"24px\">\n",
              "    <g>\n",
              "        <path d=\"M19 3H5c-1.1 0-2 .9-2 2v14c0 1.1.9 2 2 2h14c1.1 0 2-.9 2-2V5c0-1.1-.9-2-2-2zM9 17H7v-7h2v7zm4 0h-2V7h2v10zm4 0h-2v-4h2v4z\"/>\n",
              "    </g>\n",
              "</svg>\n",
              "  </button>\n",
              "\n",
              "<style>\n",
              "  .colab-df-quickchart {\n",
              "      --bg-color: #E8F0FE;\n",
              "      --fill-color: #1967D2;\n",
              "      --hover-bg-color: #E2EBFA;\n",
              "      --hover-fill-color: #174EA6;\n",
              "      --disabled-fill-color: #AAA;\n",
              "      --disabled-bg-color: #DDD;\n",
              "  }\n",
              "\n",
              "  [theme=dark] .colab-df-quickchart {\n",
              "      --bg-color: #3B4455;\n",
              "      --fill-color: #D2E3FC;\n",
              "      --hover-bg-color: #434B5C;\n",
              "      --hover-fill-color: #FFFFFF;\n",
              "      --disabled-bg-color: #3B4455;\n",
              "      --disabled-fill-color: #666;\n",
              "  }\n",
              "\n",
              "  .colab-df-quickchart {\n",
              "    background-color: var(--bg-color);\n",
              "    border: none;\n",
              "    border-radius: 50%;\n",
              "    cursor: pointer;\n",
              "    display: none;\n",
              "    fill: var(--fill-color);\n",
              "    height: 32px;\n",
              "    padding: 0;\n",
              "    width: 32px;\n",
              "  }\n",
              "\n",
              "  .colab-df-quickchart:hover {\n",
              "    background-color: var(--hover-bg-color);\n",
              "    box-shadow: 0 1px 2px rgba(60, 64, 67, 0.3), 0 1px 3px 1px rgba(60, 64, 67, 0.15);\n",
              "    fill: var(--button-hover-fill-color);\n",
              "  }\n",
              "\n",
              "  .colab-df-quickchart-complete:disabled,\n",
              "  .colab-df-quickchart-complete:disabled:hover {\n",
              "    background-color: var(--disabled-bg-color);\n",
              "    fill: var(--disabled-fill-color);\n",
              "    box-shadow: none;\n",
              "  }\n",
              "\n",
              "  .colab-df-spinner {\n",
              "    border: 2px solid var(--fill-color);\n",
              "    border-color: transparent;\n",
              "    border-bottom-color: var(--fill-color);\n",
              "    animation:\n",
              "      spin 1s steps(1) infinite;\n",
              "  }\n",
              "\n",
              "  @keyframes spin {\n",
              "    0% {\n",
              "      border-color: transparent;\n",
              "      border-bottom-color: var(--fill-color);\n",
              "      border-left-color: var(--fill-color);\n",
              "    }\n",
              "    20% {\n",
              "      border-color: transparent;\n",
              "      border-left-color: var(--fill-color);\n",
              "      border-top-color: var(--fill-color);\n",
              "    }\n",
              "    30% {\n",
              "      border-color: transparent;\n",
              "      border-left-color: var(--fill-color);\n",
              "      border-top-color: var(--fill-color);\n",
              "      border-right-color: var(--fill-color);\n",
              "    }\n",
              "    40% {\n",
              "      border-color: transparent;\n",
              "      border-right-color: var(--fill-color);\n",
              "      border-top-color: var(--fill-color);\n",
              "    }\n",
              "    60% {\n",
              "      border-color: transparent;\n",
              "      border-right-color: var(--fill-color);\n",
              "    }\n",
              "    80% {\n",
              "      border-color: transparent;\n",
              "      border-right-color: var(--fill-color);\n",
              "      border-bottom-color: var(--fill-color);\n",
              "    }\n",
              "    90% {\n",
              "      border-color: transparent;\n",
              "      border-bottom-color: var(--fill-color);\n",
              "    }\n",
              "  }\n",
              "</style>\n",
              "\n",
              "  <script>\n",
              "    async function quickchart(key) {\n",
              "      const quickchartButtonEl =\n",
              "        document.querySelector('#' + key + ' button');\n",
              "      quickchartButtonEl.disabled = true;  // To prevent multiple clicks.\n",
              "      quickchartButtonEl.classList.add('colab-df-spinner');\n",
              "      try {\n",
              "        const charts = await google.colab.kernel.invokeFunction(\n",
              "            'suggestCharts', [key], {});\n",
              "      } catch (error) {\n",
              "        console.error('Error during call to suggestCharts:', error);\n",
              "      }\n",
              "      quickchartButtonEl.classList.remove('colab-df-spinner');\n",
              "      quickchartButtonEl.classList.add('colab-df-quickchart-complete');\n",
              "    }\n",
              "    (() => {\n",
              "      let quickchartButtonEl =\n",
              "        document.querySelector('#df-e1510f0d-9154-418f-99d6-5a09ab3e0176 button');\n",
              "      quickchartButtonEl.style.display =\n",
              "        google.colab.kernel.accessAllowed ? 'block' : 'none';\n",
              "    })();\n",
              "  </script>\n",
              "</div>\n",
              "\n",
              "    </div>\n",
              "  </div>\n"
            ],
            "application/vnd.google.colaboratory.intrinsic+json": {
              "type": "dataframe",
              "repr_error": "0"
            }
          },
          "metadata": {},
          "execution_count": 17
        }
      ]
    },
    {
      "cell_type": "markdown",
      "source": [
        "#Notions de dictionnaires et encodages"
      ],
      "metadata": {
        "id": "7-klUFfb8tnw"
      }
    },
    {
      "cell_type": "code",
      "source": [
        "co=['Red','blue','yellow','green']\n",
        "data=pd.DataFrame(data=[rd.randint(1,3) for _ in range(10)],\n",
        "                  columns=[\"col_1\"])\n",
        "list1={i+1:j for i,j in enumerate(co)}\n",
        "list2={j:i+1 for i,j in enumerate(co)}\n",
        "#fonction MAP attribut la valeur à la clé (ici les données comprises dans 'col1')\n",
        "data['col_1'].map(list1)\n",
        "data['col_1'].map(lambda x: co[x]) # une autre manière de faire avec une fonction"
      ],
      "metadata": {
        "id": "Zd1-5zIY7j0D",
        "colab": {
          "base_uri": "https://localhost:8080/"
        },
        "outputId": "f581bc6c-a883-41b6-ddbf-125e660f6441"
      },
      "execution_count": 18,
      "outputs": [
        {
          "output_type": "execute_result",
          "data": {
            "text/plain": [
              "0     green\n",
              "1    yellow\n",
              "2      blue\n",
              "3    yellow\n",
              "4      blue\n",
              "5     green\n",
              "6    yellow\n",
              "7    yellow\n",
              "8     green\n",
              "9     green\n",
              "Name: col_1, dtype: object"
            ]
          },
          "metadata": {},
          "execution_count": 18
        }
      ]
    },
    {
      "cell_type": "code",
      "source": [],
      "metadata": {
        "id": "yKjHsf_C_c6p"
      },
      "execution_count": null,
      "outputs": []
    }
  ]
}